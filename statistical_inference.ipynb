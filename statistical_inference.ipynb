{
 "cells": [
  {
   "cell_type": "markdown",
   "metadata": {},
   "source": [
    "# Statistical Inference\n"
   ]
  },
  {
   "cell_type": "markdown",
   "metadata": {
    "collapsed": true
   },
   "source": [
    "### 1. In an A/B test, how can you check if assignment to the various buckets was truly random?"
   ]
  },
  {
   "cell_type": "markdown",
   "metadata": {},
   "source": [
    "You can't check randomness. If the assigned buckets ar very different from each other, that could also be result of random assignment. But you can check for balance. \n",
    "* Are distributions of exogenous covariates in different treatments the same?\n",
    "* Are outcomes similar prior to treatment?\n",
    "You can examine moments of distribution like mean or standard deviation, you can compare distributions with the Kolmogorov-Smirnov test and you can train a logit model to predict if an observation is in treatment or control group.\n"
   ]
  },
  {
   "cell_type": "markdown",
   "metadata": {},
   "source": [
    "### 2. What might be the benefits of running an A/A test, where you have two buckets who are exposed to the exact same product?\n"
   ]
  },
  {
   "cell_type": "markdown",
   "metadata": {},
   "source": [
    "An A/A test helps you to test your test. \n",
    "If you are seeing statistically significant between A and A, you may have the following problems:\n",
    "\n",
    "* The two buckets actually are being exposed to different products/pages\n",
    "* The buckets are not randomized properly - each user does not in fact have an equal chance of being in either group (e.g., maybe your randomizer is more likely to put certain users in the first group)\n",
    "* Your hypothesis test is biased and your data may violate the assumptions of the test that you are using (e.g. using a t-test when you have heavily influential outliers)."
   ]
  },
  {
   "cell_type": "markdown",
   "metadata": {},
   "source": [
    "### 3. What would be the hazards of letting users sneak a peek at the other bucket in an A/B test?"
   ]
  },
  {
   "cell_type": "markdown",
   "metadata": {},
   "source": [
    "### 4. What would be some issues if blogs decide to cover one of your experimental groups?"
   ]
  },
  {
   "cell_type": "markdown",
   "metadata": {},
   "source": [
    "### 5. How would you conduct an A/B test on an opt-in feature? "
   ]
  },
  {
   "cell_type": "markdown",
   "metadata": {},
   "source": [
    "Here, is how we can do A/B testing on an opt-in feature:\n",
    "* Randomly split sample of email list into two groups—Treatment and Control control (\"A\" and \"B\" groups).\n",
    "* Send two types of email with two variations, say “A” and “B”. Then track the response rate (on both “A” and “B” email type) based on rate of open, views, clicks and finally sales conversion.\n",
    "* Finally, calculate statistical significance of two email groups."
   ]
  },
  {
   "cell_type": "markdown",
   "metadata": {},
   "source": [
    "### 6. How would you run an A/B test for many variants, say 20 or more?\n"
   ]
  },
  {
   "cell_type": "markdown",
   "metadata": {},
   "source": [
    "* pairwise with control group\n",
    "* multi armed bandit"
   ]
  },
  {
   "cell_type": "code",
   "execution_count": null,
   "metadata": {
    "collapsed": true
   },
   "outputs": [],
   "source": []
  }
 ],
 "metadata": {
  "kernelspec": {
   "display_name": "Python 2",
   "language": "python",
   "name": "python2"
  },
  "language_info": {
   "codemirror_mode": {
    "name": "ipython",
    "version": 2
   },
   "file_extension": ".py",
   "mimetype": "text/x-python",
   "name": "python",
   "nbconvert_exporter": "python",
   "pygments_lexer": "ipython2",
   "version": "2.7.12"
  }
 },
 "nbformat": 4,
 "nbformat_minor": 0
}
